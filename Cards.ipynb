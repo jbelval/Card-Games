{
 "cells": [
  {
   "cell_type": "code",
   "execution_count": 83,
   "metadata": {},
   "outputs": [],
   "source": [
    "import random\n",
    "import math\n",
    "import matplotlib.pyplot as plt\n",
    "import numpy as np\n",
    "import pandas as pd\n",
    "from collections import deque\n",
    "%matplotlib inline"
   ]
  },
  {
   "cell_type": "code",
   "execution_count": 176,
   "metadata": {},
   "outputs": [],
   "source": [
    "global verbose\n",
    "verbose = True"
   ]
  },
  {
   "cell_type": "code",
   "execution_count": 4,
   "metadata": {},
   "outputs": [],
   "source": [
    "def read_cards_file():\n",
    "    with open(\"cards.txt\") as f:\n",
    "        try:\n",
    "            cards = f.read().split('\\n')[0:-1]\n",
    "        except:\n",
    "            for value in range(2, 11):\n",
    "                for suit in ['c', 's', 'd', 'h']:\n",
    "                    f.write(f'{value}{suit}\\n')\n",
    "            for value in ['J', 'Q', 'K', 'A']:\n",
    "                for suit in ['c', 's', 'd', 'h']:\n",
    "                    f.write(f'{value}{suit}\\n')\n",
    "            cards = f.read().split('\\n')\n",
    "            cards = cards[0:-1]\n",
    "    return cards"
   ]
  },
  {
   "cell_type": "code",
   "execution_count": 5,
   "metadata": {},
   "outputs": [],
   "source": [
    "cards_list = read_cards_file()"
   ]
  },
  {
   "cell_type": "code",
   "execution_count": 464,
   "metadata": {},
   "outputs": [],
   "source": [
    "class Card:\n",
    "\n",
    "# Had fields\n",
    "#   value\n",
    "#   name\n",
    "#   suit\n",
    "#   pip\n",
    "    \n",
    "    def __init__(self, pip=None, suit=None, name=None):\n",
    "        self.turns_held = 0\n",
    "        if pip:\n",
    "            self.pip = pip\n",
    "            self.suit = suit\n",
    "            self.name = f'{pip}{suit}'\n",
    "        elif name:\n",
    "            self.name = name\n",
    "            self.pip = name[0:-1]\n",
    "            self.suit = name[-1:]\n",
    "            \n",
    "        try:\n",
    "            self.value = int(self.pip)\n",
    "        except:\n",
    "            if self.pip=='J':\n",
    "                self.value = 11\n",
    "            elif self.pip=='Q':\n",
    "                self.value = 12\n",
    "            elif self.pip=='K':\n",
    "                self.value = 13\n",
    "            elif self.pip=='A':\n",
    "                self.value = 1"
   ]
  },
  {
   "cell_type": "code",
   "execution_count": 465,
   "metadata": {},
   "outputs": [],
   "source": [
    "def get_value_dic(*args, hand=None):\n",
    "    \n",
    "# hand argument assumes list of cards\n",
    "    \n",
    "    card_dic = {}\n",
    "    if hand:\n",
    "        for card in hand:\n",
    "            if card.value in card_dic:\n",
    "                card_dic[card.value] +=1\n",
    "            else:\n",
    "                card_dic[card.value] = 1\n",
    "    else:\n",
    "        for card in args:\n",
    "            if card.value in card_dic:\n",
    "                card_dic[card.value] +=1\n",
    "            else:\n",
    "                card_dic[card.value] = 1\n",
    "    \n",
    "    return card_dic"
   ]
  },
  {
   "cell_type": "code",
   "execution_count": 466,
   "metadata": {},
   "outputs": [],
   "source": [
    "def get_keys_with_max_value(cards):\n",
    "    \n",
    "    if type(cards) == list:\n",
    "        cards=get_value_dic(hand=cards)\n",
    "    \n",
    "    ret_keys = []\n",
    "    if type(cards) == dict:\n",
    "        if list(cards.values()).count(cards[max(cards, key=cards.get)]) == 1:\n",
    "            ret_keys.append(max(cards, key=cards.get))\n",
    "        else:\n",
    "            for key in cards.keys():\n",
    "                if cards[key] == cards[max(cards, key=cards.get)]:\n",
    "                    ret_keys.append(key)\n",
    "    return ret_keys"
   ]
  },
  {
   "cell_type": "code",
   "execution_count": 467,
   "metadata": {},
   "outputs": [],
   "source": [
    "def get_key_with_min_value(cards):\n",
    "    \n",
    "    if type(cards) == list:\n",
    "        cards=get_value_dic(hand=cards)\n",
    "    \n",
    "    ret_keys = []\n",
    "    if type(cards) == dict:\n",
    "        if list(cards.values()).count(cards[min(cards, key=cards.get)]) == 1:\n",
    "            ret_keys.append(min(cards, key=cards.get))\n",
    "        else:\n",
    "            for key in cards.keys():\n",
    "                if cards[key] ==  cards[min(cards, key=cards.get)]:\n",
    "                    ret_keys.append(key)\n",
    "    return ret_keys"
   ]
  },
  {
   "cell_type": "code",
   "execution_count": 468,
   "metadata": {},
   "outputs": [],
   "source": [
    "class Deck(object):\n",
    "    \n",
    "# Has fields\n",
    "#   cards\n",
    "    \n",
    "    def __init__(self, empty=False):\n",
    "        self.cards = deque([])\n",
    "        if not empty:\n",
    "            for x in cards_list:\n",
    "                self.cards.append(Card(name=x))\n",
    "    \n",
    "    def __iter__(self):\n",
    "        return iter(self.cards)\n",
    "    \n",
    "    def __getitem__(self, item):\n",
    "        return list(self.cards)[item]\n",
    "    \n",
    "    def __len__(self):\n",
    "        return len(self.cards)\n",
    "    \n",
    "    def shuffle(self):\n",
    "        prev_order = self.cards\n",
    "        self.cards = deque([])\n",
    "        for i in range(52):\n",
    "            card_index = random.randint(-1, 51-i)\n",
    "            self.cards.append(prev_order[card_index])\n",
    "            del prev_order[card_index]\n",
    "        return self\n",
    "    \n",
    "    def empty(self):\n",
    "        self.cards = []\n",
    "    \n",
    "    def get_top_card(self, remove=True):\n",
    "        if remove:\n",
    "            return(self.cards.popleft())\n",
    "        else:\n",
    "            return self.cards[0]\n",
    "    \n",
    "    def add(self, new_card):\n",
    "        self.cards.append(new_card)\n",
    "    "
   ]
  },
  {
   "cell_type": "code",
   "execution_count": 469,
   "metadata": {},
   "outputs": [],
   "source": [
    "class Player:\n",
    "\n",
    "# Has fields:\n",
    "#   hand\n",
    "    \n",
    "    def __init__(self, dealt_cards):\n",
    "        if type(dealt_cards) == list:\n",
    "            self.hand = dealt_cards\n",
    "        elif type(dealt_cards) == Card:\n",
    "            self.hand = []\n",
    "            self.hand.append(dealt_cards)\n",
    "        if verbose:\n",
    "            print(f'{self.hand}')\n",
    "    \n",
    "    def take_card(self, card):\n",
    "        self.hand.append(card)\n",
    "        if verbose:\n",
    "            print(f'appended {card.name}')\n",
    "    \n",
    "    def discard_card(self, card):\n",
    "        self.hand.remove(card)\n",
    "        if verbose:\n",
    "            print(f'removed {card.name}')\n",
    "        return card\n",
    "    \n",
    "    def show_hand(self):\n",
    "        ret_str = ''\n",
    "        for card in self.hand:\n",
    "            ret_str += f'{card.name} '\n",
    "        return ret_str[0:len(ret_str)-1]\n",
    "    "
   ]
  },
  {
   "cell_type": "code",
   "execution_count": 470,
   "metadata": {},
   "outputs": [],
   "source": [
    "class SpoonsPlayer(Player):\n",
    "    \n",
    "    def make_move(self, drawn_card):          \n",
    "        self.take_card(drawn_card)\n",
    "        uncommon_cards = get_key_with_min_value(self.hand)\n",
    "        if verbose:\n",
    "            print(f'uncommon cards = {uncommon_cards}')\n",
    "        if len(uncommon_cards)==1:\n",
    "            for card in self.hand:\n",
    "                if card.value == uncommon_cards[0]:\n",
    "                    return self.discard_card(card)\n",
    "            print('SNGH make_move one uncommon card')\n",
    "        else:          #This could be used for old card bias\n",
    "            chosen_index = random.randint(0, len(uncommon_cards)-1)\n",
    "            chosen_uncommon = uncommon_cards[chosen_index]\n",
    "            if verbose:\n",
    "                print(f'chosen index for discarded card is {chosen_index}')\n",
    "                print(f'chosen discard card is {chosen_uncommon}')\n",
    "            for card in self.hand:\n",
    "                if card.value == chosen_uncommon:\n",
    "                    return self.discard_card(card)\n",
    "            print('SNGH make_move multiple uncommon card')\n",
    "\n",
    "    def has_won(self):\n",
    "        if [x.value for x in self.hand].count(self.hand[0].value) == 4:\n",
    "            return True\n",
    "        else:\n",
    "            return False\n",
    "    "
   ]
  },
  {
   "cell_type": "code",
   "execution_count": 471,
   "metadata": {},
   "outputs": [],
   "source": [
    "class Game:\n",
    "    \n",
    "# Has fields:\n",
    "#   deck\n",
    "#   players\n",
    "#   game_type\n",
    "#   finished\n",
    "#   discard_pile\n",
    "    \n",
    "    def __init__(self, number_of_players, game_type, true_deal=False):\n",
    "        self.game_type = game_type\n",
    "        self.finished = False\n",
    "        self.deck = Deck().shuffle()\n",
    "        self.discard_pile = Deck(empty=True)\n",
    "        self.players = []\n",
    "        if game_type == 'spoons':\n",
    "            if true_deal:\n",
    "                # true deal probably wont make a difference, but i honestly dont know\n",
    "                pass\n",
    "            else:\n",
    "                for i in range(number_of_players):\n",
    "                    self.players.append(SpoonsPlayer(list(self.deck)[4*i:4*(i+1)]))\n",
    "    \n",
    "    def run(self):\n",
    "        while True:\n",
    "            for player in self.players:\n",
    "                if len(self.deck) == 0:\n",
    "                    self.deck=self.discard_pile\n",
    "                    self.discard_pile.empty()\n",
    "                if self.players.index(player) == 0:\n",
    "                    active_card = player.make_move(self.deck.get_top_card())\n",
    "                elif self.players.index(player) != len(self.players)-1:\n",
    "                    active_card = player.make_move(active_card)\n",
    "                elif self.players.index(player) == len(self.players)-1:\n",
    "                    self.discard_pile.add(player.make_move(self.deck.get_top_card()))\n",
    "                else:\n",
    "                    print('SNGH Game.run player index not matching expected case')\n",
    "                if player.has_won():\n",
    "                    return self.players.index(player)\n",
    "                \n",
    "            "
   ]
  },
  {
   "cell_type": "code",
   "execution_count": 472,
   "metadata": {},
   "outputs": [
    {
     "ename": "SyntaxError",
     "evalue": "unexpected EOF while parsing (<ipython-input-472-0d0651c40a51>, line 7)",
     "output_type": "error",
     "traceback": [
      "\u001b[0;36m  File \u001b[0;32m\"<ipython-input-472-0d0651c40a51>\"\u001b[0;36m, line \u001b[0;32m7\u001b[0m\n\u001b[0;31m    \u001b[0m\n\u001b[0m    ^\u001b[0m\n\u001b[0;31mSyntaxError\u001b[0m\u001b[0;31m:\u001b[0m unexpected EOF while parsing\n"
     ]
    }
   ],
   "source": [
    "class Simulation:\n",
    "\n",
    "# Has fields:\n",
    "#\n",
    "    \n",
    "    def __init__(self, number_of_players, number_of_games, game_type):\n",
    "        "
   ]
  },
  {
   "cell_type": "code",
   "execution_count": 473,
   "metadata": {},
   "outputs": [],
   "source": [
    "game = Game(4, 'spoons')"
   ]
  },
  {
   "cell_type": "code",
   "execution_count": 474,
   "metadata": {},
   "outputs": [
    {
     "data": {
      "text/plain": [
       "2"
      ]
     },
     "execution_count": 474,
     "metadata": {},
     "output_type": "execute_result"
    }
   ],
   "source": [
    "game.run()"
   ]
  }
 ],
 "metadata": {
  "kernelspec": {
   "display_name": "Python 3",
   "language": "python",
   "name": "python3"
  },
  "language_info": {
   "codemirror_mode": {
    "name": "ipython",
    "version": 3
   },
   "file_extension": ".py",
   "mimetype": "text/x-python",
   "name": "python",
   "nbconvert_exporter": "python",
   "pygments_lexer": "ipython3",
   "version": "3.7.3"
  }
 },
 "nbformat": 4,
 "nbformat_minor": 4
}
